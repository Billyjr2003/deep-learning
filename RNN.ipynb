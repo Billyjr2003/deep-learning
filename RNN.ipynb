{
  "nbformat": 4,
  "nbformat_minor": 0,
  "metadata": {
    "colab": {
      "provenance": [],
      "gpuType": "T4",
      "authorship_tag": "ABX9TyPzjlMx3D9MD0lD6l0oaKG1",
      "include_colab_link": true
    },
    "kernelspec": {
      "name": "python3",
      "display_name": "Python 3"
    },
    "language_info": {
      "name": "python"
    },
    "accelerator": "GPU"
  },
  "cells": [
    {
      "cell_type": "markdown",
      "metadata": {
        "id": "view-in-github",
        "colab_type": "text"
      },
      "source": [
        "<a href=\"https://colab.research.google.com/github/Billyjr2003/deep-learning/blob/master/RNN.ipynb\" target=\"_parent\"><img src=\"https://colab.research.google.com/assets/colab-badge.svg\" alt=\"Open In Colab\"/></a>"
      ]
    },
    {
      "cell_type": "code",
      "execution_count": 65,
      "metadata": {
        "id": "eczSrmjZmgn3"
      },
      "outputs": [],
      "source": [
        "import torch\n",
        "import torch.nn as nn\n",
        "import torch.optim as optim\n",
        "import torchvision.datasets as dataset\n",
        "import torchvision.transforms as transforms\n",
        "import torch.nn.functional as fc\n",
        "from torch.utils.data import dataloader"
      ]
    },
    {
      "cell_type": "code",
      "source": [
        "device = torch.device(\"cuda\" if torch.cuda.is_available() else \"cpu\")\n",
        "device"
      ],
      "metadata": {
        "colab": {
          "base_uri": "https://localhost:8080/"
        },
        "id": "a9IrQM0fmxK1",
        "outputId": "237c1df2-3e2d-4cfb-d645-e1f1c9acbb58"
      },
      "execution_count": 66,
      "outputs": [
        {
          "output_type": "execute_result",
          "data": {
            "text/plain": [
              "device(type='cuda')"
            ]
          },
          "metadata": {},
          "execution_count": 66
        }
      ]
    },
    {
      "cell_type": "code",
      "source": [
        "train_data = dataset.MNIST(root='dataset/', train= True, transform= transforms.ToTensor(), download= True)\n",
        "test_data = dataset.MNIST(root='dataset/', train= False, transform= transforms.ToTensor(), download= True)"
      ],
      "metadata": {
        "id": "Fst5buCvnyO8"
      },
      "execution_count": 67,
      "outputs": []
    },
    {
      "cell_type": "code",
      "source": [
        "# Hyperparameters\n",
        "input_size = 28\n",
        "num_seq = 28\n",
        "hidden_size = 256\n",
        "num_layers = 2\n",
        "num_classes = 10\n",
        "batch_size = 64\n",
        "l_r = 0.001\n",
        "num_epochs = 5"
      ],
      "metadata": {
        "id": "OCLDXujWT3Fy"
      },
      "execution_count": 68,
      "outputs": []
    },
    {
      "cell_type": "code",
      "source": [
        "train_data_loader = dataloader.DataLoader(dataset= train_data, batch_size= batch_size, shuffle= True)\n",
        "test_data_loader = dataloader.DataLoader(dataset= test_data, batch_size= batch_size, shuffle= False)"
      ],
      "metadata": {
        "id": "9xon6TFjWs3_"
      },
      "execution_count": 69,
      "outputs": []
    },
    {
      "cell_type": "code",
      "source": [
        "class RNN(nn.Module):\n",
        "  def __init__(self, input_size, hidden_size, num_layers, num_classes):\n",
        "    super(RNN, self).__init__()\n",
        "    self.num_layers = num_layers\n",
        "    self.hidden_size = hidden_size\n",
        "    self.rnn = nn.RNN(input_size, hidden_size, num_layers, batch_first= True)\n",
        "    self.fc = nn.Linear(hidden_size, num_classes)\n",
        "\n",
        "  def forward(self, x):\n",
        "    h_0 = torch.zeros(self.num_layers, x.size(0), self.hidden_size).to(device)\n",
        "    out, _ = self.rnn(x, h_0)\n",
        "    out = self.fc(out[:, -1, :])\n",
        "    return out"
      ],
      "metadata": {
        "id": "Z221e1DKi99X"
      },
      "execution_count": 70,
      "outputs": []
    },
    {
      "cell_type": "code",
      "source": [
        "model = RNN(input_size, hidden_size, num_layers, num_classes).to(device)"
      ],
      "metadata": {
        "id": "4Fe53QA5i8wQ"
      },
      "execution_count": 71,
      "outputs": []
    },
    {
      "cell_type": "code",
      "source": [
        "loss = nn.CrossEntropyLoss()\n",
        "optimizer = optim.Adam(model.parameters(), lr= l_r)"
      ],
      "metadata": {
        "id": "UXZX06QVTvIs"
      },
      "execution_count": 72,
      "outputs": []
    },
    {
      "cell_type": "code",
      "source": [
        "def accuarcy(loader, model_cls, device):\n",
        "  num_correct = 0\n",
        "  num_samples = 0\n",
        "  model_cls.eval()\n",
        "  with torch.no_grad():\n",
        "    for x, y in loader:\n",
        "      x = x.to(device).squeeze(1)\n",
        "      y = y.to(device)\n",
        "      scores = model_cls(x)\n",
        "      predections = torch.argmax(scores, dim = 1)\n",
        "      num_correct += (predections == y).sum()\n",
        "      num_samples += predections.size(0)\n",
        "    print(f'Got {num_correct / num_samples} with accuracy {(float(num_correct)/ float(num_samples))* 100} %')\n",
        "  model_cls.train()"
      ],
      "metadata": {
        "id": "4x0JG5llTwde"
      },
      "execution_count": 73,
      "outputs": []
    },
    {
      "cell_type": "markdown",
      "source": [
        "**RNN Model**"
      ],
      "metadata": {
        "id": "_31r1VPemQuv"
      }
    },
    {
      "cell_type": "code",
      "source": [
        "for epoch in range(num_epochs):\n",
        "  for batch , (data, target) in enumerate(train_data_loader):\n",
        "    data = data.to(device).squeeze(1)\n",
        "    target = target.to(device)\n",
        "    pred = model(data)\n",
        "\n",
        "    loss_fn = loss(pred, target)\n",
        "\n",
        "    optimizer.zero_grad()\n",
        "    loss_fn.backward()\n",
        "    optimizer.step()\n",
        "\n",
        "accuarcy(loader=train_data_loader, model_cls= model, device= device)\n",
        "accuarcy(loader=test_data_loader, model_cls= model, device= device)"
      ],
      "metadata": {
        "colab": {
          "base_uri": "https://localhost:8080/"
        },
        "id": "AG6yxnF6W-8R",
        "outputId": "ecd4f09e-e2db-42a0-b50b-5fde79930bcc"
      },
      "execution_count": 74,
      "outputs": [
        {
          "output_type": "stream",
          "name": "stdout",
          "text": [
            "Got 0.9551500082015991 with accuracy 95.515 %\n",
            "Got 0.9529999494552612 with accuracy 95.3 %\n"
          ]
        }
      ]
    },
    {
      "cell_type": "code",
      "source": [],
      "metadata": {
        "id": "ALTsGl9xuL4i"
      },
      "execution_count": null,
      "outputs": []
    }
  ]
}