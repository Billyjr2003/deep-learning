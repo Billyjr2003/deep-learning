{
  "nbformat": 4,
  "nbformat_minor": 0,
  "metadata": {
    "colab": {
      "provenance": [],
      "gpuType": "T4",
      "authorship_tag": "ABX9TyMpcKVTnyfVicsWMvoKVaJZ",
      "include_colab_link": true
    },
    "kernelspec": {
      "name": "python3",
      "display_name": "Python 3"
    },
    "language_info": {
      "name": "python"
    },
    "accelerator": "GPU"
  },
  "cells": [
    {
      "cell_type": "markdown",
      "metadata": {
        "id": "view-in-github",
        "colab_type": "text"
      },
      "source": [
        "<a href=\"https://colab.research.google.com/github/Billyjr2003/deep-learning/blob/master/LSTM.ipynb\" target=\"_parent\"><img src=\"https://colab.research.google.com/assets/colab-badge.svg\" alt=\"Open In Colab\"/></a>"
      ]
    },
    {
      "cell_type": "code",
      "execution_count": 52,
      "metadata": {
        "id": "eczSrmjZmgn3"
      },
      "outputs": [],
      "source": [
        "import torch\n",
        "import torch.nn as nn\n",
        "import torch.optim as optim\n",
        "import torchvision.datasets as dataset\n",
        "import torchvision.transforms as transforms\n",
        "import torch.nn.functional as fc\n",
        "from torch.utils.data import dataloader"
      ]
    },
    {
      "cell_type": "code",
      "source": [
        "device = torch.device(\"cuda\" if torch.cuda.is_available() else \"cpu\")\n",
        "device"
      ],
      "metadata": {
        "colab": {
          "base_uri": "https://localhost:8080/"
        },
        "id": "a9IrQM0fmxK1",
        "outputId": "41b12bbe-62a3-4b41-8cb2-c24cf0639bf9"
      },
      "execution_count": 53,
      "outputs": [
        {
          "output_type": "execute_result",
          "data": {
            "text/plain": [
              "device(type='cuda')"
            ]
          },
          "metadata": {},
          "execution_count": 53
        }
      ]
    },
    {
      "cell_type": "code",
      "source": [
        "train_data = dataset.MNIST(root='dataset/', train= True, transform= transforms.ToTensor(), download= True)\n",
        "test_data = dataset.MNIST(root='dataset/', train= False, transform= transforms.ToTensor(), download= True)"
      ],
      "metadata": {
        "id": "Fst5buCvnyO8"
      },
      "execution_count": 55,
      "outputs": []
    },
    {
      "cell_type": "code",
      "source": [
        "# Hyperparameters\n",
        "input_size = 28\n",
        "num_seq = 28\n",
        "hidden_size = 256\n",
        "num_layers = 2\n",
        "num_classes = 10\n",
        "batch_size = 64\n",
        "l_r = 0.001\n",
        "num_epochs = 5"
      ],
      "metadata": {
        "id": "OCLDXujWT3Fy"
      },
      "execution_count": 56,
      "outputs": []
    },
    {
      "cell_type": "code",
      "source": [
        "train_data_loader = dataloader.DataLoader(dataset= train_data, batch_size= batch_size, shuffle= True)\n",
        "test_data_loader = dataloader.DataLoader(dataset= test_data, batch_size= batch_size, shuffle= False)"
      ],
      "metadata": {
        "id": "9xon6TFjWs3_"
      },
      "execution_count": 57,
      "outputs": []
    },
    {
      "cell_type": "code",
      "source": [
        "class LSTM(nn.Module):\n",
        "  def __init__(self, input_size, hidden_size, num_layers, num_classes):\n",
        "    super(LSTM, self).__init__()\n",
        "    self.num_layers = num_layers\n",
        "    self.hidden_size = hidden_size\n",
        "    self.lstm = nn.LSTM(input_size, hidden_size, num_layers, batch_first= True, bidirectional= True)\n",
        "    self.fc = nn.Linear(hidden_size*2, num_classes)\n",
        "\n",
        "  def forward(self, x):\n",
        "    h_0 = torch.zeros(self.num_layers*2, x.size(0), self.hidden_size).to(device)\n",
        "    c_0 = torch.zeros(self.num_layers*2, x.size(0), self.hidden_size).to(device)\n",
        "    out, _ = self.lstm(x, (h_0, c_0))\n",
        "    out = self.fc(out[:, -1, :])\n",
        "    return out"
      ],
      "metadata": {
        "id": "Z221e1DKi99X"
      },
      "execution_count": 58,
      "outputs": []
    },
    {
      "cell_type": "code",
      "source": [
        "model = LSTM(input_size, hidden_size, num_layers, num_classes).to(device)"
      ],
      "metadata": {
        "id": "4Fe53QA5i8wQ"
      },
      "execution_count": 59,
      "outputs": []
    },
    {
      "cell_type": "code",
      "source": [
        "loss = nn.CrossEntropyLoss()\n",
        "optimizer = optim.Adam(model.parameters(), lr= l_r)"
      ],
      "metadata": {
        "id": "UXZX06QVTvIs"
      },
      "execution_count": 60,
      "outputs": []
    },
    {
      "cell_type": "code",
      "source": [
        "def accuarcy(loader, model_cls, device):\n",
        "  num_correct = 0\n",
        "  num_samples = 0\n",
        "  model_cls.eval()\n",
        "  with torch.no_grad():\n",
        "    for x, y in loader:\n",
        "      x = x.to(device).squeeze(1)\n",
        "      y = y.to(device)\n",
        "      scores = model_cls(x)\n",
        "      predections = torch.argmax(scores, dim = 1)\n",
        "      num_correct += (predections == y).sum()\n",
        "      num_samples += predections.size(0)\n",
        "    print(f'Got {num_correct / num_samples} with accuracy {(float(num_correct)/ float(num_samples))* 100} %')\n",
        "  model_cls.train()"
      ],
      "metadata": {
        "id": "4x0JG5llTwde"
      },
      "execution_count": 61,
      "outputs": []
    },
    {
      "cell_type": "markdown",
      "source": [
        "**LSTM Model**"
      ],
      "metadata": {
        "id": "_31r1VPemQuv"
      }
    },
    {
      "cell_type": "code",
      "source": [
        "for epoch in range(num_epochs):\n",
        "  for batch , (data, target) in enumerate(train_data_loader):\n",
        "    data = data.to(device).squeeze(1)\n",
        "    target = target.to(device)\n",
        "    pred = model(data)\n",
        "\n",
        "    loss_fn = loss(pred, target)\n",
        "\n",
        "    optimizer.zero_grad()\n",
        "    loss_fn.backward()\n",
        "    optimizer.step()\n",
        "\n",
        "accuarcy(loader=train_data_loader, model_cls= model, device= device)\n",
        "accuarcy(loader=test_data_loader, model_cls= model, device= device)"
      ],
      "metadata": {
        "colab": {
          "base_uri": "https://localhost:8080/"
        },
        "id": "AG6yxnF6W-8R",
        "outputId": "045b94cf-88a9-4878-c2f6-cf209ad1bd22"
      },
      "execution_count": 63,
      "outputs": [
        {
          "output_type": "stream",
          "name": "stdout",
          "text": [
            "Got 0.9879000186920166 with accuracy 98.79 %\n",
            "Got 0.9839999675750732 with accuracy 98.4 %\n"
          ]
        }
      ]
    }
  ]
}